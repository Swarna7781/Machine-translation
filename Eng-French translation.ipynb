{
 "cells": [
  {
   "cell_type": "markdown",
   "id": "7c371cad",
   "metadata": {},
   "source": [
    "# Importing necessary libraries"
   ]
  },
  {
   "cell_type": "code",
   "execution_count": 1,
   "id": "9d8ffe99",
   "metadata": {},
   "outputs": [
    {
     "name": "stdout",
     "output_type": "stream",
     "text": [
      "WARNING:tensorflow:From C:\\Users\\swarnadeep acharya\\AppData\\Roaming\\Python\\Python311\\site-packages\\keras\\src\\losses.py:2976: The name tf.losses.sparse_softmax_cross_entropy is deprecated. Please use tf.compat.v1.losses.sparse_softmax_cross_entropy instead.\n",
      "\n"
     ]
    }
   ],
   "source": [
    "from transformers import TFMarianMTModel, MarianTokenizer\n",
    "import pickle\n",
    "import tkinter as tk\n",
    "from tkinter import scrolledtext"
   ]
  },
  {
   "cell_type": "markdown",
   "id": "e6221771",
   "metadata": {},
   "source": [
    "# Using pre-trained model for translation"
   ]
  },
  {
   "cell_type": "code",
   "execution_count": 2,
   "id": "d20a0a29",
   "metadata": {},
   "outputs": [
    {
     "name": "stdout",
     "output_type": "stream",
     "text": [
      "WARNING:tensorflow:From C:\\Users\\swarnadeep acharya\\AppData\\Roaming\\Python\\Python311\\site-packages\\keras\\src\\backend.py:873: The name tf.get_default_graph is deprecated. Please use tf.compat.v1.get_default_graph instead.\n",
      "\n"
     ]
    },
    {
     "name": "stderr",
     "output_type": "stream",
     "text": [
      "All model checkpoint layers were used when initializing TFMarianMTModel.\n",
      "\n",
      "All the layers of TFMarianMTModel were initialized from the model checkpoint at Helsinki-NLP/opus-mt-en-fr.\n",
      "If your task is similar to the task the model of the checkpoint was trained on, you can already use TFMarianMTModel for predictions without further training.\n",
      "C:\\Users\\swarnadeep acharya\\anaconda3\\Lib\\site-packages\\transformers\\models\\marian\\tokenization_marian.py:194: UserWarning: Recommended: pip install sacremoses.\n",
      "  warnings.warn(\"Recommended: pip install sacremoses.\")\n",
      "C:\\Users\\swarnadeep acharya\\anaconda3\\Lib\\site-packages\\transformers\\generation\\tf_utils.py:465: UserWarning: `seed_generator` is deprecated and will be removed in a future version.\n",
      "  warnings.warn(\"`seed_generator` is deprecated and will be removed in a future version.\", UserWarning)\n"
     ]
    }
   ],
   "source": [
    "\n",
    "model_name = 'Helsinki-NLP/opus-mt-en-fr'\n",
    "model = TFMarianMTModel.from_pretrained(model_name)\n",
    "tokenizer = MarianTokenizer.from_pretrained(model_name)\n",
    "\n",
    "\n",
    "with open('nmt_model.pkl', 'wb') as f:\n",
    "    pickle.dump(model, f)\n",
    "\n",
    "with open('nmt_tokenizer.pkl', 'wb') as f:\n",
    "    pickle.dump(tokenizer, f)"
   ]
  },
  {
   "cell_type": "markdown",
   "id": "64e855e0",
   "metadata": {},
   "source": [
    "# Implementing beam search decoder"
   ]
  },
  {
   "cell_type": "code",
   "execution_count": 3,
   "id": "49e8027f",
   "metadata": {},
   "outputs": [],
   "source": [
    "def beam_search_decode(text, model, tokenizer, beam_size=5):\n",
    "    inputs = tokenizer.encode(text, return_tensors=\"tf\")\n",
    "    translated = model.generate(inputs, num_beams=beam_size, early_stopping=True)\n",
    "    translation = tokenizer.decode(translated[0], skip_special_tokens=True)\n",
    "    return translation\n",
    "\n"
   ]
  },
  {
   "cell_type": "markdown",
   "id": "167ab674",
   "metadata": {},
   "source": [
    "# Translation example"
   ]
  },
  {
   "cell_type": "code",
   "execution_count": 4,
   "id": "bb28fd2d",
   "metadata": {},
   "outputs": [
    {
     "name": "stdout",
     "output_type": "stream",
     "text": [
      "Input text: How are you?\n",
      "Translation: Comment allez-vous?\n"
     ]
    }
   ],
   "source": [
    "\n",
    "text = \"How are you?\"\n",
    "translation = beam_search_decode(text, model, tokenizer)\n",
    "print(f\"Input text: {text}\")\n",
    "print(f\"Translation: {translation}\")"
   ]
  },
  {
   "cell_type": "code",
   "execution_count": 5,
   "id": "5ba94e31",
   "metadata": {},
   "outputs": [],
   "source": [
    "\n",
    "def translate():\n",
    "    input_text = input_text_box.get(\"1.0\", tk.END).strip()\n",
    "    if input_text:\n",
    "        translation = beam_search_decode(input_text, model, tokenizer)\n",
    "        output_text_box.config(state=tk.NORMAL)\n",
    "        output_text_box.delete(\"1.0\", tk.END)\n",
    "        output_text_box.insert(tk.END, translation)\n",
    "        output_text_box.config(state=tk.DISABLED)\n",
    "\n"
   ]
  },
  {
   "cell_type": "markdown",
   "id": "04e3ebe4",
   "metadata": {},
   "source": [
    "# Implementing GUI"
   ]
  },
  {
   "cell_type": "code",
   "execution_count": 9,
   "id": "7d228760",
   "metadata": {},
   "outputs": [],
   "source": [
    "root = tk.Tk()\n",
    "root.title(\"English to French Translation\")\n",
    "\n",
    "input_label = tk.Label(root, text=\"Enter text in English:\")\n",
    "input_label.pack()\n",
    "\n",
    "input_text_box = scrolledtext.ScrolledText(root, width=50, height=10)\n",
    "input_text_box.pack()\n",
    "\n",
    "translate_button = tk.Button(root, text=\"Translate\", command=translate)\n",
    "translate_button.pack()\n",
    "\n",
    "output_label = tk.Label(root, text=\"Translated text in French:\")\n",
    "output_label.pack()\n",
    "\n",
    "output_text_box = scrolledtext.ScrolledText(root, width=50, height=10, state=tk.DISABLED)\n",
    "output_text_box.pack()\n",
    "\n",
    "root.mainloop()"
   ]
  },
  {
   "cell_type": "code",
   "execution_count": null,
   "id": "b74c9113",
   "metadata": {},
   "outputs": [],
   "source": []
  },
  {
   "cell_type": "code",
   "execution_count": null,
   "id": "763f3c81",
   "metadata": {},
   "outputs": [],
   "source": []
  },
  {
   "cell_type": "code",
   "execution_count": null,
   "id": "57d364f4",
   "metadata": {},
   "outputs": [],
   "source": []
  },
  {
   "cell_type": "code",
   "execution_count": null,
   "id": "9e67acc0",
   "metadata": {},
   "outputs": [],
   "source": []
  },
  {
   "cell_type": "code",
   "execution_count": null,
   "id": "7ff5da81",
   "metadata": {},
   "outputs": [],
   "source": []
  },
  {
   "cell_type": "code",
   "execution_count": null,
   "id": "e1fc29fb",
   "metadata": {},
   "outputs": [],
   "source": []
  },
  {
   "cell_type": "code",
   "execution_count": null,
   "id": "03ab446a",
   "metadata": {},
   "outputs": [],
   "source": []
  },
  {
   "cell_type": "code",
   "execution_count": null,
   "id": "bcbfad34",
   "metadata": {},
   "outputs": [],
   "source": []
  },
  {
   "cell_type": "code",
   "execution_count": null,
   "id": "5a5ac002",
   "metadata": {},
   "outputs": [],
   "source": []
  },
  {
   "cell_type": "code",
   "execution_count": null,
   "id": "bcba5f37",
   "metadata": {},
   "outputs": [],
   "source": []
  },
  {
   "cell_type": "code",
   "execution_count": null,
   "id": "760b3071",
   "metadata": {},
   "outputs": [],
   "source": []
  }
 ],
 "metadata": {
  "kernelspec": {
   "display_name": "Python 3 (ipykernel)",
   "language": "python",
   "name": "python3"
  },
  "language_info": {
   "codemirror_mode": {
    "name": "ipython",
    "version": 3
   },
   "file_extension": ".py",
   "mimetype": "text/x-python",
   "name": "python",
   "nbconvert_exporter": "python",
   "pygments_lexer": "ipython3",
   "version": "3.11.5"
  }
 },
 "nbformat": 4,
 "nbformat_minor": 5
}
